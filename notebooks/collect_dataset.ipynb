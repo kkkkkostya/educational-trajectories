{
 "cells": [
  {
   "cell_type": "code",
   "execution_count": null,
   "metadata": {
    "vscode": {
     "languageId": "plaintext"
    }
   },
   "outputs": [],
   "source": [
    "import pandas as pandas\n",
    "import numpy as np\n",
    "import matplotlib.pyplot as plt\n",
    "import seaborn as sns\n",
    "import pandas as pd\n",
    "from datasets import load_dataset\n",
    "\n",
    "\n",
    "dataset_names = [\n",
    "    \"student-performance-mat\",\n",
    "    \"student-performance-por\"\n",
    "]\n",
    "dataframes = []"
   ]
  },
  {
   "cell_type": "code",
   "execution_count": null,
   "metadata": {
    "vscode": {
     "languageId": "plaintext"
    }
   },
   "outputs": [],
   "source": [
    "for ds_name in dataset_names:\n",
    "try:\n",
    "    dataset = load_dataset(ds_name)\n",
    "    df = pd.DataFrame(dataset['train'])\n",
    "    df['dataset'] = ds_name\n",
    "    dataframes.append(df)\n",
    "    print(f\"Загружен датасет {ds_name} размером {df.shape}\")\n",
    "except Exception as e:\n",
    "    print(f\"Не удалось загрузить датасет {ds_name}: {e}\")"
   ]
  },
  {
   "cell_type": "code",
   "execution_count": null,
   "metadata": {
    "vscode": {
     "languageId": "plaintext"
    }
   },
   "outputs": [],
   "source": [
    "combined_df = pd.concat(dataframes, ignore_index=True)\n",
    "print(\"\\nОсновная статистика объединённого датасета:\")\n",
    "print(combined_df.describe(include='all'))\n",
    "\n",
    "score_col = None\n",
    "for col in ['score', 'grade']:\n",
    "    if col in combined_df.columns:\n",
    "        score_col = col\n",
    "        break\n",
    "\n",
    "if score_col:\n",
    "    plt.figure(figsize=(10, 6))\n",
    "    sns.histplot(combined_df[score_col], kde=True)\n",
    "    plt.title(\"Распределение оценок студентов\")\n",
    "    plt.xlabel(\"Оценка\")\n",
    "    plt.ylabel(\"Частота\")\n",
    "    plt.show()"
   ]
  },
  {
   "cell_type": "code",
   "execution_count": null,
   "metadata": {
    "vscode": {
     "languageId": "plaintext"
    }
   },
   "outputs": [],
   "source": [
    "numeric_cols = combined_df.select_dtypes(include=['int64', 'float64']).columns.tolist()\n",
    "if numeric_cols:\n",
    "    corr = combined_df[numeric_cols].corr()\n",
    "    plt.figure(figsize=(12, 8))\n",
    "    sns.heatmap(corr, annot=True, cmap='coolwarm', fmt=\".2f\")\n",
    "    plt.title(\"Корреляционная матрица числовых признаков\")\n",
    "    plt.show()"
   ]
  },
  {
   "cell_type": "code",
   "execution_count": null,
   "metadata": {
    "vscode": {
     "languageId": "plaintext"
    }
   },
   "outputs": [],
   "source": [
    "if len(numeric_cols) > 1 and len(numeric_cols) <= 5:\n",
    "    sns.pairplot(combined_df[numeric_cols])\n",
    "    plt.show()"
   ]
  }
 ],
 "metadata": {
  "language_info": {
   "name": "python"
  }
 },
 "nbformat": 4,
 "nbformat_minor": 2
}
