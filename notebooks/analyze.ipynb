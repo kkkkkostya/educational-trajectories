{
 "cells": [
  {
   "cell_type": "code",
   "execution_count": null,
   "id": "d3e1fb62",
   "metadata": {},
   "outputs": [],
   "source": [
    "import numpy as np\n",
    "import pandas as pd\n",
    "from sklearn.ensemble import RandomForestRegressor\n",
    "\n",
    "from sklearn.experimental import enable_iterative_imputer\n",
    "from sklearn.impute import IterativeImputer, SimpleImputer\n",
    "from sklearn.kernel_approximation import Nystroem\n",
    "from sklearn.linear_model import BayesianRidge, Ridge\n",
    "from sklearn.model_selection import cross_val_score\n",
    "from sklearn.neighbors import KNeighborsRegressor\n",
    "from sklearn.pipeline import make_pipeline\n",
    "import matplotlib.pyplot as plt\n",
    "import sys\n",
    "\n",
    "N_SPLITS = 5\n",
    "\n",
    "sys.path.append(\"../\")\n",
    "rng = np.random.RandomState(0)\n",
    "\n",
    "def introduce_missingness(data, missing_rate=0.1, mechanism='MCAR'):\n",
    "    data_missing = data.copy()\n",
    "    n_samples, n_features = data.shape\n",
    "    n_missing = int(np.floor(missing_rate * n_samples * n_features))\n",
    "    \n",
    "    if mechanism == 'MCAR':\n",
    "        missing_indices = [(np.random.randint(0, n_samples), np.random.randint(0, n_features)) for _ in range(n_missing)]\n",
    "    \n",
    "    for i, j in missing_indices:\n",
    "        data_missing.iat[i, j] = np.nan\n",
    "    return data_missing\n"
   ]
  },
  {
   "cell_type": "code",
   "execution_count": 12,
   "id": "836f2e66",
   "metadata": {},
   "outputs": [],
   "source": [
    "from sklearn.metrics import mean_absolute_error, mean_squared_error\n",
    "import numpy as np\n",
    "\n",
    "def evaluate_imputation(true_values, imputed_values):\n",
    "    mae = mean_absolute_error(true_values, imputed_values)\n",
    "    rmse = np.sqrt(mean_squared_error(true_values, imputed_values))\n",
    "    return mae, rmse\n"
   ]
  },
  {
   "cell_type": "code",
   "execution_count": null,
   "id": "fbdc1f2e",
   "metadata": {},
   "outputs": [],
   "source": [
    "dataset_v1 = pd.read_csv('production/models/data/latest_cgpa.csv')\n",
    "dataset_v2 = pd.read_csv('production/models/data/student-mat.csv')\n",
    "dataset_v3 = pd.read_csv('production/models/data/student-por.csv')\n",
    "dataset_v4 = pd.read_csv('production/models/data/StudentsPerformance.csv')"
   ]
  },
  {
   "cell_type": "code",
   "execution_count": 15,
   "id": "01948bec",
   "metadata": {},
   "outputs": [
    {
     "data": {
      "text/plain": [
       "(143, 34)"
      ]
     },
     "execution_count": 15,
     "metadata": {},
     "output_type": "execute_result"
    }
   ],
   "source": [
    "dataset_v1.shape"
   ]
  },
  {
   "cell_type": "code",
   "execution_count": null,
   "id": "a8753e91",
   "metadata": {},
   "outputs": [],
   "source": [
    "from sklearn.impute import SimpleImputer\n",
    "from sklearn.impute import KNNImputer\n",
    "from sklearn.experimental import enable_iterative_imputer\n",
    "from sklearn.impute import IterativeImputer\n",
    "\n",
    "mean_imputer = SimpleImputer(strategy='mean')\n",
    "X_mean_imputed = mean_imputer.fit_transform(dataset_v1)\n",
    "\n",
    "knn_imputer = KNNImputer(n_neighbors=5)\n",
    "X_knn_imputed = knn_imputer.fit_transform(dataset_v1)\n",
    "\n",
    "mice_imputer = IterativeImputer(random_state=0)\n",
    "X_mice_imputed = mice_imputer.fit_transform(X_misdataset_v1sing)"
   ]
  },
  {
   "cell_type": "code",
   "execution_count": null,
   "id": "a870d26b",
   "metadata": {},
   "outputs": [],
   "source": [
    "br_estimator = BayesianRidge()\n",
    "score_full_data = pd.DataFrame(\n",
    "    cross_val_score(\n",
    "        br_estimator, dataset_v1.drop(['sem_8_sgpa'],axis=1), dataset_v1.iloc[:,33], scoring=\"neg_mean_squared_error\", cv=N_SPLITS\n",
    "    ),\n",
    "    columns=[\"Full Data\"],\n",
    ")\n",
    "\n",
    "missing_features = rng.choice(n_features, n_samples, replace=True)\n",
    "X_missing[missing_samples, missing_features] = np.nan\n",
    "\n",
    "score_simple_imputer = pd.DataFrame()\n",
    "for strategy in (\"mean\", \"median\"):\n",
    "    estimator = make_pipeline(\n",
    "        SimpleImputer(missing_values=np.nan, strategy=strategy), br_estimator\n",
    "    )\n",
    "    score_simple_imputer[strategy] = cross_val_score(\n",
    "        estimator, X_missing, y_missing, scoring=\"neg_mean_squared_error\", cv=N_SPLITS\n",
    "    )\n",
    "\n",
    "estimators = [\n",
    "    BayesianRidge(),\n",
    "    RandomForestRegressor(\n",
    "        n_estimators=4,\n",
    "        max_depth=10,\n",
    "        bootstrap=True,\n",
    "        max_samples=0.5,\n",
    "        n_jobs=2,\n",
    "        random_state=0,\n",
    "    ),\n",
    "    make_pipeline(\n",
    "        Nystroem(kernel=\"polynomial\", degree=2, random_state=0), Ridge(alpha=1e3)\n",
    "    ),\n",
    "    KNeighborsRegressor(n_neighbors=15),\n",
    "]\n",
    "score_iterative_imputer = pd.DataFrame()\n",
    "\n",
    "tolerances = (1e-3, 1e-1, 1e-1, 1e-2)\n",
    "for impute_estimator, tol in zip(estimators, tolerances):\n",
    "    estimator = make_pipeline(\n",
    "        IterativeImputer(\n",
    "            random_state=0, estimator=impute_estimator, max_iter=25, tol=tol\n",
    "        ),\n",
    "        br_estimator,\n",
    "    )\n",
    "    score_iterative_imputer[impute_estimator.__class__.__name__] = cross_val_score(\n",
    "        estimator, X_missing, y_missing, scoring=\"neg_mean_squared_error\", cv=N_SPLITS\n",
    "    )\n",
    "\n",
    "scores = pd.concat(\n",
    "    [score_full_data, score_simple_imputer, score_iterative_imputer],\n",
    "    keys=[\"Original\", \"SimpleImputer\", \"IterativeImputer\"],\n",
    "    axis=1,\n",
    ")\n",
    "\n",
    "fig, ax = plt.subplots(figsize=(13, 6))\n",
    "means = -scores.mean()\n",
    "errors = scores.std()\n",
    "means.plot.barh(xerr=errors, ax=ax)\n",
    "ax.set_xlabel(\"MSE\")\n",
    "ax.set_yticks(np.arange(means.shape[0]))\n",
    "ax.set_yticklabels([\" w/ \".join(label) for label in means.index.tolist()])\n",
    "plt.tight_layout(pad=1)\n",
    "plt.show()"
   ]
  }
 ],
 "metadata": {
  "kernelspec": {
   "display_name": "venv",
   "language": "python",
   "name": "python3"
  },
  "language_info": {
   "codemirror_mode": {
    "name": "ipython",
    "version": 3
   },
   "file_extension": ".py",
   "mimetype": "text/x-python",
   "name": "python",
   "nbconvert_exporter": "python",
   "pygments_lexer": "ipython3",
   "version": "3.11.9"
  }
 },
 "nbformat": 4,
 "nbformat_minor": 5
}
